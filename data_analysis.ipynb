{
 "cells": [
  {
   "cell_type": "code",
   "execution_count": 1,
   "metadata": {},
   "outputs": [],
   "source": [
    "import openslide as ops\n",
    "import os\n",
    "import matplotlib.pyplot as plt"
   ]
  },
  {
   "cell_type": "code",
   "execution_count": null,
   "metadata": {},
   "outputs": [],
   "source": [
    "THUMB_SIZE = 4096\n",
    "dataset_dir = \"./datasets/wsi\"\n",
    "thumbnail_dir = \"./datasets/thumbnails\"\n",
    "if not os.path.exists(thumbnail_dir):\n",
    "    os.makedirs(thumbnail_dir)\n",
    "    \n",
    "tiff_files = [f for f in os.listdir(dataset_dir) if f.endswith('.tif')]\n",
    "print(len(tiff_files))\n",
    "print(tiff_files)"
   ]
  },
  {
   "cell_type": "code",
   "execution_count": null,
   "metadata": {},
   "outputs": [],
   "source": [
    "cols = 3\n",
    "rows = len(tiff_files) // cols \n",
    "fig, axs = plt.subplots(rows, cols, figsize=(15, 15), dpi=150)\n",
    "\n",
    "for idx,tiff_file in enumerate(tiff_files):\n",
    "    slide_path = os.path.join(dataset_dir, tiff_file)\n",
    "\n",
    "    try:\n",
    "        slide = ops.OpenSlide(slide_path)\n",
    "        print(f\"Slide: {slide_path}\")\n",
    "        print(f\"Slide Dimension: {slide.dimensions} pixels\")\n",
    "        print(f\"Number of Levels: {slide.level_count}\")\n",
    "        print(f\"Slide Properties:\")\n",
    "        for key, value in slide.properties.items():\n",
    "            print(f\"\\t{key}: {value}\")\n",
    "        print(f\"file size: {round(os.path.getsize(slide_path) / 1024 ** 2, 2)} MB\")\n",
    "\n",
    "        axs[idx].imshow(slide.get_thumbnail((THUMB_SIZE, THUMB_SIZE)))\n",
    "        axs[idx].set_title(tiff_file)\n",
    "\n",
    "        scale = THUMB_SIZE / max(slide.dimensions)\n",
    "        print(f\"Scale: {scale}\")\n",
    "        print(f\"Thumbnail Dimension: {[int(dim * scale) for dim in slide.dimensions]} pixels\")\n",
    "        print(\"-----------------------------\")\n",
    "\n",
    "    except Exception as e:\n",
    "        print(e)\n",
    "        continue\n"
   ]
  },
  {
   "cell_type": "code",
   "execution_count": null,
   "metadata": {},
   "outputs": [],
   "source": []
  }
 ],
 "metadata": {
  "kernelspec": {
   "display_name": "Python 3",
   "language": "python",
   "name": "python3"
  },
  "language_info": {
   "codemirror_mode": {
    "name": "ipython",
    "version": 3
   },
   "file_extension": ".py",
   "mimetype": "text/x-python",
   "name": "python",
   "nbconvert_exporter": "python",
   "pygments_lexer": "ipython3",
   "version": "3.12.7"
  }
 },
 "nbformat": 4,
 "nbformat_minor": 2
}

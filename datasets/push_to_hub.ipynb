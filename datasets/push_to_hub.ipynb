{
 "cells": [
  {
   "cell_type": "code",
   "execution_count": 1,
   "metadata": {},
   "outputs": [],
   "source": [
    "import pickle\n",
    "from datasets import Dataset\n",
    "import openslide as ops\n",
    "import os"
   ]
  },
  {
   "cell_type": "code",
   "execution_count": 2,
   "metadata": {},
   "outputs": [],
   "source": [
    "with open('merged_embeddings/merged_dataset.pkl', 'rb') as f:\n",
    "    data = pickle.load(f)"
   ]
  },
  {
   "cell_type": "code",
   "execution_count": null,
   "metadata": {},
   "outputs": [],
   "source": [
    "print(len(data))"
   ]
  },
  {
   "cell_type": "code",
   "execution_count": 4,
   "metadata": {},
   "outputs": [],
   "source": [
    "\"\"\" for d in data:\n",
    "    slide_name = d['slide_name']\n",
    "    path = os.path.join('wsi', slide_name)\n",
    "\n",
    "    x = d['x']\n",
    "    y = d['y']\n",
    "    patch_size = d['patch_size']\n",
    "\n",
    "    slide = ops.OpenSlide(path)\n",
    "    patch = slide.read_region((x, y), 0, patch_size)\n",
    "    patch = patch.convert('RGB')\n",
    "    d['patch_image'] = patch \"\"\"\n"
   ]
  },
  {
   "cell_type": "code",
   "execution_count": 4,
   "metadata": {},
   "outputs": [],
   "source": [
    "dataset = Dataset.from_dict({\"slide_name\": [item[\"slide_name\"] for item in data],\n",
    "                             \"x\": [item[\"x\"] for item in data],\n",
    "                             \"y\": [item[\"y\"] for item in data],\n",
    "                             \"level\": [item[\"level\"] for item in data],\n",
    "                             \"patch_size\": [item[\"patch_size\"] for item in data],\n",
    "                             \"resize\": [item[\"resize\"] for item in data],\n",
    "                             \"embedding_vector\": [item[\"embedding_vector\"] for item in data]})"
   ]
  },
  {
   "cell_type": "code",
   "execution_count": null,
   "metadata": {},
   "outputs": [],
   "source": [
    "dataset.push_to_hub(\"Cilem/histopathology-1024\")"
   ]
  }
 ],
 "metadata": {
  "kernelspec": {
   "display_name": "ai",
   "language": "python",
   "name": "python3"
  },
  "language_info": {
   "codemirror_mode": {
    "name": "ipython",
    "version": 3
   },
   "file_extension": ".py",
   "mimetype": "text/x-python",
   "name": "python",
   "nbconvert_exporter": "python",
   "pygments_lexer": "ipython3",
   "version": "3.13.1"
  }
 },
 "nbformat": 4,
 "nbformat_minor": 2
}

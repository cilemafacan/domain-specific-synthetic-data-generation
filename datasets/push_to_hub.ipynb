{
 "cells": [
  {
   "cell_type": "code",
   "execution_count": 4,
   "metadata": {},
   "outputs": [],
   "source": [
    "import pickle\n",
    "from datasets import Dataset"
   ]
  },
  {
   "cell_type": "code",
   "execution_count": 6,
   "metadata": {},
   "outputs": [],
   "source": [
    "with open('histopathology.pkl', 'rb') as f:\n",
    "    data = pickle.load(f)"
   ]
  },
  {
   "cell_type": "code",
   "execution_count": null,
   "metadata": {},
   "outputs": [],
   "source": [
    "dataset = Dataset.from_dict({\"image\": [item[\"patch_image\"] for item in data],\n",
    "                             \"slide_name\": [item[\"slide_name\"] for item in data],\n",
    "                             \"x\": [item[\"x\"] for item in data],\n",
    "                             \"y\": [item[\"y\"] for item in data],\n",
    "                             \"level\": [item[\"level\"] for item in data],\n",
    "                             \"patch_size\": [item[\"patch_size\"] for item in data],\n",
    "                             \"resize\": [item[\"resize\"] for item in data],\n",
    "                             \"embedding_vector\": [item[\"embedding_vector\"] for item in data],\n",
    "                             \"label\": [item[\"label\"] for item in data]})"
   ]
  },
  {
   "cell_type": "code",
   "execution_count": null,
   "metadata": {},
   "outputs": [],
   "source": [
    "dataset.push_to_hub(\"Cilem/histopathology\")"
   ]
  }
 ],
 "metadata": {
  "kernelspec": {
   "display_name": "ai",
   "language": "python",
   "name": "python3"
  },
  "language_info": {
   "codemirror_mode": {
    "name": "ipython",
    "version": 3
   },
   "file_extension": ".py",
   "mimetype": "text/x-python",
   "name": "python",
   "nbconvert_exporter": "python",
   "pygments_lexer": "ipython3",
   "version": "3.10.0"
  }
 },
 "nbformat": 4,
 "nbformat_minor": 2
}

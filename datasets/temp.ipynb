{
 "cells": [
  {
   "cell_type": "code",
   "execution_count": 4,
   "metadata": {},
   "outputs": [],
   "source": [
    "import pickle\n",
    "import openslide as ops\n",
    "import os"
   ]
  },
  {
   "cell_type": "code",
   "execution_count": null,
   "metadata": {},
   "outputs": [],
   "source": [
    "dataset = pickle.load(open('../diffusion/histopathology.pkl', 'rb'))\n",
    "print(dataset[0].keys())"
   ]
  },
  {
   "cell_type": "code",
   "execution_count": 5,
   "metadata": {},
   "outputs": [],
   "source": [
    "for data in dataset:\n",
    "    slide = ops.OpenSlide(os.path.join('./wsi', data['slide_name']))\n",
    "    patch = slide.read_region(location=(data['x'], data['y']), level=0, size=data['patch_size'])\n",
    "    patch = patch.convert('RGB')\n",
    "    patch = patch.resize(data['resize'])\n",
    "\n",
    "    data['patch_image'] = patch\n",
    "\n",
    "pickle.dump(dataset, open('./histopathology.pkl', 'wb'))\n",
    "    "
   ]
  },
  {
   "cell_type": "code",
   "execution_count": 6,
   "metadata": {},
   "outputs": [],
   "source": [
    "with open('histopathology.pkl', 'rb') as f:\n",
    "    veri = pickle.load(f)"
   ]
  },
  {
   "cell_type": "code",
   "execution_count": null,
   "metadata": {},
   "outputs": [],
   "source": [
    "from datasets import Dataset, DatasetDict\n",
    "from PIL import Image\n",
    "import numpy as np\n",
    "\n",
    "dataset = Dataset.from_dict({\"image\": [item[\"patch_image\"] for item in veri],\n",
    "                             \"slide_name\": [item[\"slide_name\"] for item in veri],\n",
    "                             \"x\": [item[\"x\"] for item in veri],\n",
    "                             \"y\": [item[\"y\"] for item in veri],\n",
    "                             \"level\": [item[\"level\"] for item in veri],\n",
    "                             \"patch_size\": [item[\"patch_size\"] for item in veri],\n",
    "                             \"resize\": [item[\"resize\"] for item in veri],\n",
    "                             \"embedding_vector\": [item[\"embedding_vector\"] for item in veri],\n",
    "                             \"label\": [item[\"label\"] for item in veri]})"
   ]
  },
  {
   "cell_type": "code",
   "execution_count": 8,
   "metadata": {},
   "outputs": [],
   "source": [
    "from huggingface_hub import login\n",
    "\n"
   ]
  },
  {
   "cell_type": "code",
   "execution_count": null,
   "metadata": {},
   "outputs": [],
   "source": [
    "dataset.push_to_hub(\"Cilem/histopathology\")"
   ]
  },
  {
   "cell_type": "code",
   "execution_count": null,
   "metadata": {},
   "outputs": [],
   "source": [
    "for i,v in enumerate(veri):\n",
    "    if v[\"patch_size\"] == (1024, 1024):\n",
    "        print(i)"
   ]
  },
  {
   "cell_type": "code",
   "execution_count": null,
   "metadata": {},
   "outputs": [],
   "source": [
    "display(veri[31207][\"patch_image\"])"
   ]
  },
  {
   "cell_type": "code",
   "execution_count": null,
   "metadata": {},
   "outputs": [],
   "source": []
  }
 ],
 "metadata": {
  "kernelspec": {
   "display_name": "ai",
   "language": "python",
   "name": "python3"
  },
  "language_info": {
   "codemirror_mode": {
    "name": "ipython",
    "version": 3
   },
   "file_extension": ".py",
   "mimetype": "text/x-python",
   "name": "python",
   "nbconvert_exporter": "python",
   "pygments_lexer": "ipython3",
   "version": "3.10.0"
  }
 },
 "nbformat": 4,
 "nbformat_minor": 2
}

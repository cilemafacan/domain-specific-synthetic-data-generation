{
 "cells": [
  {
   "cell_type": "code",
   "execution_count": 1,
   "metadata": {},
   "outputs": [],
   "source": [
    "import openslide as ops\n",
    "import os\n",
    "import matplotlib.pyplot as plt\n",
    "import logging"
   ]
  },
  {
   "cell_type": "code",
   "execution_count": 2,
   "metadata": {},
   "outputs": [],
   "source": [
    "THUMB_SIZE = 4096\n",
    "DATASET_DIR = \"./wsi\"\n",
    "THUMB_DIR = \"./thumbnails\"\n",
    "LOG_DIR = \"./logs\"\n",
    "LOG_NAME = \"ds_analysis.log\""
   ]
  },
  {
   "cell_type": "code",
   "execution_count": null,
   "metadata": {},
   "outputs": [],
   "source": [
    "if not os.path.exists(THUMB_DIR):\n",
    "    os.makedirs(THUMB_DIR)\n",
    "if not os.path.exists(LOG_DIR):\n",
    "    os.makedirs(LOG_DIR)\n",
    "\n",
    "logging.basicConfig(level=logging.INFO, \n",
    "                    format='%(asctime)s - %(name)s - %(levelname)s - %(message)s', \n",
    "                    filename=LOG_DIR + \"/\" + LOG_NAME)\n",
    "\n",
    "logging.info(\"Starting thumbnail generation...\")\n",
    "logging.info(f\"Dataset directory: {DATASET_DIR}\")\n",
    "logging.info(f\"Thumbnail directory: {THUMB_DIR}\")\n",
    "\n",
    "\n",
    "\n",
    "tiff_files = []\n",
    "for root, dirs, files in os.walk(DATASET_DIR):\n",
    "    for file in files:\n",
    "        if file.endswith(\".tif\"):\n",
    "            tiff_files.append(os.path.join(root, file))\n",
    "\n",
    "print(f\"Found {len(tiff_files)} tiff files\")\n",
    "logging.info(f\"Found {len(tiff_files)} tiff files\")"
   ]
  },
  {
   "cell_type": "code",
   "execution_count": 4,
   "metadata": {},
   "outputs": [],
   "source": [
    "def plot_thumbnail(thumbnail, title):\n",
    "    fig, ax = plt.subplots(1, 1, figsize=(10, 10))\n",
    "    ax.imshow(thumbnail)\n",
    "    ax.set_title(title)\n",
    "    plt.show()"
   ]
  },
  {
   "cell_type": "code",
   "execution_count": null,
   "metadata": {},
   "outputs": [],
   "source": [
    "for idx,tiff_file in enumerate(tiff_files):\n",
    "    slide_path = tiff_file\n",
    "    try:\n",
    "        slide = ops.OpenSlide(slide_path)\n",
    "        thumbnail = slide.get_thumbnail((THUMB_SIZE, THUMB_SIZE))\n",
    "        thumbnail.save(os.path.join(THUMB_DIR, os.path.basename(slide_path).replace(\".tif\", \".png\")))\n",
    "        plot_thumbnail(thumbnail, os.path.basename(slide_path))\n",
    "        scale = THUMB_SIZE / max(slide.dimensions)\n",
    "        logging.info(f\"Slide: {slide_path}\")\n",
    "        logging.info(f\"Slide Dimension: {slide.dimensions} pixels\")\n",
    "        logging.info(f\"Number of Levels: {slide.level_count}\")\n",
    "        logging.info(f\"file size: {round(os.path.getsize(slide_path) / 1024 ** 2, 2)} MB\")\n",
    "        logging.info(f\"Scale: {scale}\")\n",
    "        logging.info(f\"Thumbnail Dimension: {[int(dim * scale) for dim in slide.dimensions]} pixels\")\n",
    "        logging.info(\"-----------------------------\")\n",
    "\n",
    "    except Exception as e:\n",
    "        logging.error(f\"Error processing {slide_path}\")\n",
    "        continue"
   ]
  }
 ],
 "metadata": {
  "kernelspec": {
   "display_name": "ai",
   "language": "python",
   "name": "python3"
  },
  "language_info": {
   "codemirror_mode": {
    "name": "ipython",
    "version": 3
   },
   "file_extension": ".py",
   "mimetype": "text/x-python",
   "name": "python",
   "nbconvert_exporter": "python",
   "pygments_lexer": "ipython3",
   "version": "3.10.16"
  }
 },
 "nbformat": 4,
 "nbformat_minor": 2
}

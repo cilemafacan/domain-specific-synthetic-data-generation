{
 "cells": [
  {
   "cell_type": "code",
   "execution_count": 1,
   "metadata": {},
   "outputs": [],
   "source": [
    "import numpy as np\n",
    "import matplotlib.pyplot as plt\n",
    "import pickle\n",
    "from sklearn.cluster import KMeans\n",
    "from sklearn.decomposition import PCA"
   ]
  },
  {
   "cell_type": "code",
   "execution_count": null,
   "metadata": {},
   "outputs": [],
   "source": [
    "NUM_CLUSTERS = 2\n",
    "\n",
    "dataset = pickle.load(open('clustered_embeddings.pkl', 'rb'))\n",
    "all_embeddings = np.concatenate([data['embeds'] for data in dataset], axis=0)\n",
    "print(all_embeddings.shape)"
   ]
  },
  {
   "cell_type": "code",
   "execution_count": 3,
   "metadata": {},
   "outputs": [],
   "source": [
    "def cluster_embeddings(embeddings, n_clusters):\n",
    "    all_embeddings = np.concatenate([data['embeds'] for data in embeddings], axis=0)\n",
    "    kmeans = KMeans(n_clusters=n_clusters, random_state=0).fit(all_embeddings)\n",
    "    labels = kmeans.labels_\n",
    "    print(len(labels))\n",
    "    for i, data in enumerate(embeddings):\n",
    "        data[\"label\"] = labels[i]\n",
    "    return embeddings"
   ]
  },
  {
   "cell_type": "code",
   "execution_count": null,
   "metadata": {},
   "outputs": [],
   "source": [
    "clustered_embeddings = cluster_embeddings(dataset, NUM_CLUSTERS)\n",
    "pickle.dump(clustered_embeddings, open(\"clustered_embeddings.pkl\", \"wb\"))"
   ]
  },
  {
   "cell_type": "code",
   "execution_count": null,
   "metadata": {},
   "outputs": [],
   "source": [
    "pca = PCA(n_components=2)\n",
    "reduced_embeddings = pca.fit_transform(all_embeddings)\n",
    "\n",
    "colors = [\"red\", \"blue\", \"green\", \"purple\"]\n",
    "for i, embedding in enumerate(dataset):\n",
    "    plt.scatter(reduced_embeddings[i, 0], reduced_embeddings[i, 1], color=colors[embedding[\"label\"]])\n",
    "plt.title(\"Clustered embeddings\")\n",
    "plt.xlabel(\"PCA 1\")\n",
    "plt.ylabel(\"PCA 2\")\n",
    "plt.grid()\n",
    "plt.show()\n",
    "\n",
    "\"\"\" pca_ = PCA(n_components=3)\n",
    "reduced_embeddings = pca_.fit_transform(np.concatenate([embedding[\"embeds\"] for embedding in embeddings], axis=0))\n",
    "\n",
    "fig = plt.figure()\n",
    "ax = fig.add_subplot(111, projection='3d')\n",
    "for i, embedding in enumerate(embeddings):\n",
    "    ax.scatter(reduced_embeddings[i, 0], reduced_embeddings[i, 1], reduced_embeddings[i, 2], color=colors[embedding[\"label\"]])\n",
    "plt.title(\"Clustered embeddings\")\n",
    "ax.set_xlabel(\"PCA 1\")\n",
    "ax.set_ylabel(\"PCA 2\")\n",
    "ax.set_zlabel(\"PCA 3\")\n",
    "plt.grid()\n",
    "plt.show() \"\"\""
   ]
  },
  {
   "cell_type": "code",
   "execution_count": 1,
   "metadata": {},
   "outputs": [],
   "source": [
    "import os\n",
    "import matplotlib.pyplot as plt\n",
    "import pickle\n",
    "from collections import Counter"
   ]
  },
  {
   "cell_type": "code",
   "execution_count": 2,
   "metadata": {},
   "outputs": [],
   "source": [
    "dataset = pickle.load(open('clustered_embeddings.pkl', 'rb'))"
   ]
  },
  {
   "cell_type": "code",
   "execution_count": null,
   "metadata": {},
   "outputs": [],
   "source": [
    "print(len(dataset))\n",
    "print(dataset[0].keys())\n",
    "print(dataset[0]['patch'])\n",
    "print(dataset[0]['embeds'].shape)\n",
    "print(dataset[0]['label'])"
   ]
  },
  {
   "cell_type": "code",
   "execution_count": null,
   "metadata": {},
   "outputs": [],
   "source": [
    "unique_labels = set([data['label'] for data in dataset])\n",
    "num_labels = len(unique_labels)\n",
    "\n",
    "print(\"Number of unique labels: \", num_labels)\n",
    "print(\"Labels: \", unique_labels)"
   ]
  },
  {
   "cell_type": "code",
   "execution_count": null,
   "metadata": {},
   "outputs": [],
   "source": [
    "# Chosee random 10 patches from each cluster\n",
    "\n",
    "clusters = {}\n",
    "for d in dataset:\n",
    "    if d['label'] not in clusters:\n",
    "        clusters[d['label']] = []\n",
    "    clusters[d['label']].append(d)\n",
    "\n",
    "for k, v in clusters.items():\n",
    "    print(k, len(v))\n",
    "    \n",
    "    if len(v) > 10:\n",
    "        v = v[180000:180010]\n",
    "\n",
    "    fig, axs = plt.subplots(2, 5, figsize=(20, 8), dpi=100)\n",
    "    for i, d in enumerate(v):\n",
    "        patch = os.path.join('datasets/patches', d['patch'])\n",
    "        patch = plt.imread(patch)\n",
    "        axs[i//5, i%5].imshow(patch)\n",
    "        axs[i//5, i%5].set_title(d['patch'])\n",
    "        \n",
    "    plt.show()\n"
   ]
  },
  {
   "cell_type": "code",
   "execution_count": null,
   "metadata": {},
   "outputs": [],
   "source": []
  }
 ],
 "metadata": {
  "kernelspec": {
   "display_name": "Python 3",
   "language": "python",
   "name": "python3"
  },
  "language_info": {
   "codemirror_mode": {
    "name": "ipython",
    "version": 3
   },
   "file_extension": ".py",
   "mimetype": "text/x-python",
   "name": "python",
   "nbconvert_exporter": "python",
   "pygments_lexer": "ipython3",
   "version": "3.12.7"
  }
 },
 "nbformat": 4,
 "nbformat_minor": 2
}

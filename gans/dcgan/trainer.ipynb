{
 "cells": [
  {
   "cell_type": "code",
   "execution_count": null,
   "metadata": {},
   "outputs": [],
   "source": [
    "import pickle\n",
    "import torch\n",
    "import torch.nn as nn\n",
    "import logging\n",
    "import torch.optim as optim\n",
    "import torch.utils.data\n",
    "import torchvision.transforms as transforms\n",
    "import torchvision.utils as vutils\n",
    "import numpy as np\n",
    "import matplotlib.pyplot as plt\n",
    "import matplotlib.animation as animation\n",
    "\n",
    "from dcgan_with_embeddings import Generator, Discriminator, PathFoundationModel\n",
    "from dataset_loader import CustomDataset\n",
    "from IPython.display import HTML\n",
    "from torch.utils.data import DataLoader"
   ]
  },
  {
   "cell_type": "code",
   "execution_count": null,
   "metadata": {},
   "outputs": [],
   "source": [
    "batch_size = 128\n",
    "image_size = 224\n",
    "nc = 3\n",
    "nz = 100\n",
    "ngf = 64\n",
    "ndf = 64\n",
    "num_epochs = 10\n",
    "lr = 0.0002\n",
    "beta1 = 0.5\n",
    "\n",
    "DATASET_DIR = \"../datasets/merged_embeddings/merged_dataset.pkl\"\n",
    "SLIDE_DIR = \"../datasets/wsi\"\n",
    "DEVICE = torch.device(\"mps\" if torch.mps.is_available() else \"cpu\")\n",
    "print(\"Using device: \", DEVICE)\n",
    "\n",
    "logging.basicConfig(filename='gan.log', level=logging.DEBUG, format='%(asctime)s %(message)s')\n",
    "\n",
    "logging.info(\"Batch size: %d\", batch_size)\n",
    "logging.info(\"Image size: %d\", image_size)\n",
    "logging.info(\"Number of channels: %d\", nc)\n",
    "logging.info(\"Size of latent vector: %d\", nz)\n",
    "logging.info(\"Number of generator filters: %d\", ngf)\n",
    "logging.info(\"Number of discriminator filters: %d\", ndf)\n",
    "logging.info(\"Number of epochs: %d\", num_epochs)\n",
    "logging.info(\"Learning rate: %f\", lr)\n",
    "logging.info(\"Beta1: %f\", beta1)\n",
    "logging.info(\"Dataset directory: %s\", DATASET_DIR)\n",
    "logging.info(\"Slide directory: %s\", SLIDE_DIR)\n",
    "logging.info(\"Device: %s\", DEVICE)"
   ]
  },
  {
   "cell_type": "code",
   "execution_count": null,
   "metadata": {},
   "outputs": [],
   "source": [
    "with open(DATASET_DIR, \"rb\") as f:\n",
    "    train_dataset = pickle.load(f)\n",
    "\n",
    "idx =100\n",
    "print(\"Length of train dataset: \", len(train_dataset))\n",
    "print(\"Train dataset keys: \", train_dataset[idx].keys())\n",
    "print(\"Slide name: \", train_dataset[idx][\"slide_name\"])\n",
    "print(\"Embedding vector shape: \", train_dataset[idx][\"embedding_vector\"].shape)\n",
    "\n",
    "transform = transforms.Compose([\n",
    "    transforms.Resize(image_size),\n",
    "    transforms.ToTensor(),\n",
    "    transforms.Normalize((0.5, 0.5, 0.5), (0.5, 0.5, 0.5))\n",
    "])\n",
    "logging.info(\"Transforms: %s\", transform)\n",
    "\n",
    "train_data = CustomDataset(train_dataset, slide_dir=SLIDE_DIR, transform=transform)\n",
    "train_loader = DataLoader(train_data, batch_size=batch_size, shuffle=True)\n",
    "logging.info(\"Length of train loader: %d\", len(train_loader))\n",
    "\n",
    "real_batch = next(iter(train_loader))\n",
    "plt.figure(figsize=(8,8))\n",
    "plt.axis(\"off\")\n",
    "plt.title(\"Training Images\")\n",
    "plt.imshow(np.transpose(vutils.make_grid(real_batch[0].to(DEVICE)[:64], padding=2, normalize=True).cpu(),(1,2,0)))\n",
    "plt.show()"
   ]
  },
  {
   "cell_type": "code",
   "execution_count": 4,
   "metadata": {},
   "outputs": [],
   "source": [
    "netG = Generator(nz, ngf, nc).to(DEVICE)\n",
    "logging.info(\"Generator: %s\", netG)"
   ]
  },
  {
   "cell_type": "code",
   "execution_count": 5,
   "metadata": {},
   "outputs": [],
   "source": [
    "netD = Discriminator().to(DEVICE)\n",
    "logging.info(\"Discriminator: %s\", netD)"
   ]
  },
  {
   "cell_type": "code",
   "execution_count": null,
   "metadata": {},
   "outputs": [],
   "source": [
    "netGoogle = PathFoundationModel(model_name=\"google/path-foundation\")\n",
    "logging.info(\"PathFoundationModel: %s\", netGoogle)"
   ]
  },
  {
   "cell_type": "code",
   "execution_count": 7,
   "metadata": {},
   "outputs": [],
   "source": [
    "criterion = nn.BCELoss()\n",
    "logging.info(\"Criterion: %s\", criterion)\n",
    "\n",
    "fixed_noise = torch.randn(64, nz, 1, 1, device=DEVICE)\n",
    "\n",
    "real_label = 1.\n",
    "fake_label = 0.\n",
    "logging.info(\"Real label: %f\", real_label)\n",
    "logging.info(\"Fake label: %f\", fake_label)\n",
    "\n",
    "\n",
    "optimizerD = optim.Adam(netD.parameters(), lr=lr, betas=(beta1, 0.999))\n",
    "optimizerG = optim.Adam(netG.parameters(), lr=lr, betas=(beta1, 0.999))\n",
    "logging.info(\"Optimizer D: %s\", optimizerD)\n",
    "logging.info(\"Optimizer G: %s\", optimizerG)"
   ]
  },
  {
   "cell_type": "code",
   "execution_count": null,
   "metadata": {},
   "outputs": [],
   "source": [
    "img_list = []\n",
    "G_losses = []\n",
    "D_losses = []\n",
    "iters = 0\n",
    "\n",
    "print(\"Starting Training Loop...\")\n",
    "\n",
    "for epoch in range(num_epochs):\n",
    "\n",
    "    for i, data in enumerate(train_loader, 0):\n",
    "        netD.zero_grad()\n",
    "        real_cpu = data[1].to(DEVICE)\n",
    "        b_size = real_cpu.size(0)\n",
    "        label = torch.full((b_size,), real_label, dtype=torch.float, device=DEVICE)\n",
    "        output = netD(real_cpu).view(-1)\n",
    "        errD_real = criterion(output, label)\n",
    "        errD_real.backward()\n",
    "        D_x = output.mean().item()\n",
    "\n",
    "        noise = torch.randn(b_size, nz, 1, 1, device=DEVICE)\n",
    "        fake = netG(noise)\n",
    "        fake_embedding = netGoogle.inference(fake.cpu().detach().numpy())\n",
    "        fake_embedding = fake_embedding.to(DEVICE)\n",
    "        label.fill_(fake_label)\n",
    "        output = netD(fake_embedding.detach())\n",
    "        output = output.view(-1)\n",
    "        \n",
    "        errD_fake = criterion(output, label)\n",
    "        errD_fake.backward()\n",
    "        D_G_z1 = output.mean().item()\n",
    "        errD = errD_real + errD_fake\n",
    "        optimizerD.step()\n",
    "\n",
    "\n",
    "        netG.zero_grad()\n",
    "        label.fill_(real_label)  \n",
    "        output = netD(fake_embedding).view(-1)\n",
    "        errG = criterion(output, label)\n",
    "        errG.backward()\n",
    "        D_G_z2 = output.mean().item()\n",
    "        optimizerG.step()\n",
    "\n",
    "        if i % 50 == 0:\n",
    "            print('[%d/%d][%d/%d]\\tLoss_D: %.4f\\tLoss_G: %.4f\\tD(x): %.4f\\tD(G(z)): %.4f / %.4f'\n",
    "                  % (epoch, num_epochs, i, len(train_loader),\n",
    "                     errD.item(), errG.item(), D_x, D_G_z1, D_G_z2))\n",
    "            \n",
    "            logging.info('[%d/%d][%d/%d]\\tLoss_D: %.4f\\tLoss_G: %.4f\\tD(x): %.4f\\tD(G(z)): %.4f / %.4f'\n",
    "                    % (epoch, num_epochs, i, len(train_loader),\n",
    "                         errD.item(), errG.item(), D_x, D_G_z1, D_G_z2))\n",
    "\n",
    "        G_losses.append(errG.item())\n",
    "        D_losses.append(errD.item())\n",
    "\n",
    "        if (iters % 500 == 0) or ((epoch == num_epochs-1) and (i == len(train_loader)-1)):\n",
    "            with torch.no_grad():\n",
    "                fake = netG(fixed_noise).detach().cpu()\n",
    "            img_list.append(vutils.make_grid(fake, padding=2, normalize=True))\n",
    "\n",
    "        iters += 1"
   ]
  },
  {
   "cell_type": "code",
   "execution_count": null,
   "metadata": {},
   "outputs": [],
   "source": [
    "plt.figure(figsize=(10,5))\n",
    "plt.title(\"Generator and Discriminator Loss During Training\")\n",
    "plt.plot(G_losses,label=\"G\")\n",
    "plt.plot(D_losses,label=\"D\")\n",
    "plt.xlabel(\"iterations\")\n",
    "plt.ylabel(\"Loss\")\n",
    "plt.legend()\n",
    "plt.show()"
   ]
  },
  {
   "cell_type": "code",
   "execution_count": null,
   "metadata": {},
   "outputs": [],
   "source": [
    "fig = plt.figure(figsize=(8,8))\n",
    "plt.axis(\"off\")\n",
    "ims = [[plt.imshow(np.transpose(i,(1,2,0)), animated=True)] for i in img_list]\n",
    "ani = animation.ArtistAnimation(fig, ims, interval=1000, repeat_delay=1000, blit=True)\n",
    "ani.save(\"animation.html\", writer=\"html\")\n",
    "HTML(ani.to_jshtml())"
   ]
  },
  {
   "cell_type": "code",
   "execution_count": null,
   "metadata": {},
   "outputs": [],
   "source": [
    "real_batch = next(iter(train_loader))\n",
    "\n",
    "plt.figure(figsize=(15,15))\n",
    "plt.subplot(1,2,1)\n",
    "plt.axis(\"off\")\n",
    "plt.title(\"Real Images\")\n",
    "plt.imshow(np.transpose(vutils.make_grid(real_batch[0].to(DEVICE)[:64], padding=5, normalize=True).cpu(),(1,2,0)))\n",
    "\n",
    "\n",
    "plt.subplot(1,2,2)\n",
    "plt.axis(\"off\")\n",
    "plt.title(\"Fake Images\")\n",
    "plt.imshow(np.transpose(img_list[-1],(1,2,0)))\n",
    "plt.show()"
   ]
  },
  {
   "cell_type": "code",
   "execution_count": 12,
   "metadata": {},
   "outputs": [],
   "source": [
    "torch.save(netG.state_dict(), \"generator.pth\")\n",
    "torch.save(netD.state_dict(), \"discriminator.pth\")"
   ]
  }
 ],
 "metadata": {
  "kernelspec": {
   "display_name": "Python 3",
   "language": "python",
   "name": "python3"
  },
  "language_info": {
   "codemirror_mode": {
    "name": "ipython",
    "version": 3
   },
   "file_extension": ".py",
   "mimetype": "text/x-python",
   "name": "python",
   "nbconvert_exporter": "python",
   "pygments_lexer": "ipython3",
   "version": "3.12.7"
  }
 },
 "nbformat": 4,
 "nbformat_minor": 2
}

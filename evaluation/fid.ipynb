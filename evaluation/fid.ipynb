{
 "cells": [
  {
   "cell_type": "code",
   "execution_count": 1,
   "metadata": {},
   "outputs": [],
   "source": [
    "import pickle\n",
    "import random\n",
    "import torch\n",
    "import torch.utils.data\n",
    "import torchvision.transforms as transforms\n",
    "import torchvision.utils as vutils\n",
    "import numpy as np\n",
    "import matplotlib.pyplot as plt\n",
    "\n",
    "from dcgan import Generator, Discriminator\n",
    "from dataset_loader import CustomDataset\n",
    "from scipy.linalg import sqrtm\n",
    "from torch.utils.data import DataLoader\n",
    "from torcheval.metrics import FrechetInceptionDistance\n",
    "from dcgan_with_embeddings import PathFoundationModel"
   ]
  },
  {
   "cell_type": "code",
   "execution_count": 2,
   "metadata": {},
   "outputs": [],
   "source": [
    "DATASET_DIR = \"../datasets/merged_embeddings/merged_dataset.pkl\"\n",
    "SLIDE_DIR = \"../datasets/wsi\"\n",
    "DEVICE = torch.device(\"mps\" if torch.mps.is_available() else \"cpu\")"
   ]
  },
  {
   "cell_type": "code",
   "execution_count": null,
   "metadata": {},
   "outputs": [],
   "source": [
    "netGoogle = PathFoundationModel(model_name=\"google/path-foundation\")"
   ]
  },
  {
   "cell_type": "code",
   "execution_count": null,
   "metadata": {},
   "outputs": [],
   "source": [
    "gen_model = Generator(nz=100, ngf=64, nc=3).to(DEVICE)\n",
    "gen_model.load_state_dict(torch.load(\"./dcgan_outputs/trained_models/DCGAN/generator_10.pth\"))\n",
    "gen_model.eval()"
   ]
  },
  {
   "cell_type": "code",
   "execution_count": null,
   "metadata": {},
   "outputs": [],
   "source": [
    "with open(DATASET_DIR, \"rb\") as f:\n",
    "    train_dataset = pickle.load(f)\n",
    "\n",
    "transform = transforms.Compose([\n",
    "    transforms.Resize(224),\n",
    "    transforms.ToTensor()\n",
    "])\n",
    "\n",
    "fids = []\n",
    "train_data = CustomDataset(train_dataset, slide_dir=SLIDE_DIR, transform=transform)\n",
    "train_loader = DataLoader(train_data, batch_size=128, shuffle=True)\n",
    "\n",
    "for i, data in enumerate(train_loader):\n",
    "    real_images, _ = data\n",
    "    real_images = real_images.to(DEVICE)\n",
    "    \n",
    "    with torch.no_grad():\n",
    "        fake_images = gen_model(torch.randn(128, 100, 1, 1, device=DEVICE))\n",
    "\n",
    "    fake_data = fake_images.clamp(0, 1)\n",
    "    print(\"Real Data Max: \", real_images.max())\n",
    "    print(\"Real Data Min: \", real_images.min())\n",
    "    print(\"Fake Data Max: \", fake_data.max())\n",
    "    print(\"Fake Data Min: \", fake_data.min())\n",
    "\n",
    "\n",
    "    # Calculate FID\n",
    "    fid = FrechetInceptionDistance()\n",
    "    fid.update(real_images, is_real=True)\n",
    "    fid.update(fake_data, is_real=False)\n",
    "    fid_value = fid.compute()\n",
    "    print(\"FID: \", fid_value)\n",
    "    fids.append(fid_value)\n",
    "\n",
    "print(\"Average FID: \", np.mean(fids))\n",
    "print(len(fids))"
   ]
  }
 ],
 "metadata": {
  "kernelspec": {
   "display_name": "Python 3",
   "language": "python",
   "name": "python3"
  },
  "language_info": {
   "codemirror_mode": {
    "name": "ipython",
    "version": 3
   },
   "file_extension": ".py",
   "mimetype": "text/x-python",
   "name": "python",
   "nbconvert_exporter": "python",
   "pygments_lexer": "ipython3",
   "version": "3.12.7"
  }
 },
 "nbformat": 4,
 "nbformat_minor": 2
}

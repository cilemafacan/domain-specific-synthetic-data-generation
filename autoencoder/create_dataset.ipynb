{
 "cells": [
  {
   "cell_type": "code",
   "execution_count": 1,
   "metadata": {},
   "outputs": [],
   "source": [
    "import numpy as np\n",
    "import matplotlib.pyplot as plt\n",
    "import tensorflow as tf\n",
    "import tifffile as tiff\n",
    "from PIL import Image as PILImage"
   ]
  },
  {
   "cell_type": "code",
   "execution_count": 2,
   "metadata": {},
   "outputs": [],
   "source": [
    "PILImage.MAX_IMAGE_PIXELS = 9999999999999"
   ]
  },
  {
   "cell_type": "code",
   "execution_count": null,
   "metadata": {},
   "outputs": [],
   "source": [
    "\"\"\" img = PILImage.open(\"patient_100/patient_100_node_3.tif\")\n",
    "print(img.size)\n",
    "img.thumbnail((1024,1024))\n",
    "plt.imshow(np.array(img) / 255.0) \"\"\""
   ]
  },
  {
   "cell_type": "code",
   "execution_count": 4,
   "metadata": {},
   "outputs": [],
   "source": [
    "def patch_image(image_path, patch_size=224, x1=0, y1=0, step_size=0):\n",
    "    np_img = tiff.imread(image_path)\n",
    "    y2 = y1 + step_size\n",
    "    x2 = x1 + step_size\n",
    "    np_img = np_img[y1:y2, x1:x2, :]\n",
    "    height, width, _ = np_img.shape\n",
    "    for i in range(0, height, patch_size):\n",
    "        for j in range(0, width, patch_size):\n",
    "            patch = np_img[i:i + patch_size, j:j + patch_size]\n",
    "            yield patch, i, j"
   ]
  },
  {
   "cell_type": "code",
   "execution_count": null,
   "metadata": {},
   "outputs": [],
   "source": [
    "image_path = \"patient_100/patient_100_node_3.tif\"\n",
    "patch_image = patch_image(image_path, patch_size=224, x1=55000, y1=35000, step_size=224*50)\n",
    "dataset = []\n",
    "loaded_model = tf.keras.layers.TFSMLayer(\"/Users/cilem/.cache/huggingface/hub/models--google--path-foundation/snapshots/fd6a835ceaae15be80db6abd8dcfeb86a9287e72\", call_endpoint='serving_default')\n",
    "infer = loaded_model.call\n",
    "\n",
    "for i, (patch, x, y) in enumerate(patch_image):\n",
    "    tensor = tf.cast(tf.expand_dims(np.array(patch), axis=0), tf.float32) / 255.0\n",
    "    tf.config.optimizer.set_experimental_options({\"enable_xla\": False})\n",
    "    embeddings = infer(tf.constant(tensor))\n",
    "    embedding_vector = embeddings['output_0'].numpy()\n",
    "    dataset.append({\"image_name\": f\"image_{i}.png\",\n",
    "                    \"image\": patch,\n",
    "                    \"embedding\": embedding_vector})\n",
    "    if i% 100 == 0:\n",
    "        plt.imshow(patch)\n",
    "        plt.show()"
   ]
  },
  {
   "cell_type": "code",
   "execution_count": null,
   "metadata": {},
   "outputs": [],
   "source": [
    "print(len(dataset))\n",
    "import pickle   \n",
    "mode = \"node_3_1\"\n",
    "with open(f\"{mode}_dataset.pkl\", \"wb\") as f:\n",
    "    pickle.dump(dataset, f)"
   ]
  },
  {
   "cell_type": "code",
   "execution_count": null,
   "metadata": {},
   "outputs": [],
   "source": []
  }
 ],
 "metadata": {
  "kernelspec": {
   "display_name": "Python 3",
   "language": "python",
   "name": "python3"
  },
  "language_info": {
   "codemirror_mode": {
    "name": "ipython",
    "version": 3
   },
   "file_extension": ".py",
   "mimetype": "text/x-python",
   "name": "python",
   "nbconvert_exporter": "python",
   "pygments_lexer": "ipython3",
   "version": "3.12.7"
  }
 },
 "nbformat": 4,
 "nbformat_minor": 2
}

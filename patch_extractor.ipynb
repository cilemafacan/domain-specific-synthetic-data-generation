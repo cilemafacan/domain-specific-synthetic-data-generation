{
 "cells": [
  {
   "cell_type": "code",
   "execution_count": 1,
   "metadata": {},
   "outputs": [],
   "source": [
    "import os\n",
    "import openslide as ops\n",
    "import numpy as np\n",
    "import logging"
   ]
  },
  {
   "cell_type": "code",
   "execution_count": 2,
   "metadata": {},
   "outputs": [],
   "source": [
    "logging.basicConfig(level=logging.INFO, format='%(asctime)s - %(name)s - %(levelname)s - %(message)s', filename=\"logs/patch_extraction.log\")\n",
    "logging.info(\"Starting patch extraction...\")\n",
    "WSI_DIR = \"./datasets/wsi\"\n",
    "PATCH_DIR = \"./datasets/patches\"\n",
    "PATCH_SIZE = 224\n",
    "OVERLAP = 0\n",
    "if not os.path.exists(PATCH_DIR):\n",
    "    os.makedirs(PATCH_DIR)\n",
    "\n",
    "logging.info(\"Extracting patches from WSI...\")\n",
    "logging.info(\"Patch size: {}\".format(PATCH_SIZE))\n",
    "logging.info(\"Overlap: {}\".format(OVERLAP))\n",
    "logging.info(\"WSI directory: {}\".format(WSI_DIR))\n",
    "logging.info(\"Patch directory: {}\".format(PATCH_DIR))"
   ]
  },
  {
   "cell_type": "code",
   "execution_count": 3,
   "metadata": {},
   "outputs": [],
   "source": [
    "class PatchExtractor:\n",
    "    def __init__(self, slide_root_path, patch_size, overlap, save_path):\n",
    "        self.slides_path = []\n",
    "        for root, dirs, files in os.walk(slide_root_path):\n",
    "            for file in files:\n",
    "                if file.endswith('.tif'):\n",
    "                    self.slide_path = os.path.join(root, file)\n",
    "                    self.slides_path.append(self.slide_path)\n",
    "        \n",
    "        self.patch_size = patch_size\n",
    "        self.overlap = overlap\n",
    "        self.save_path = save_path\n",
    "\n",
    "    def extract_patches(self):\n",
    "        for slide_path in self.slides_path:\n",
    "            try:\n",
    "                slide = ops.OpenSlide(slide_path)\n",
    "                slide_name = os.path.basename(slide_path).split('.')[0]\n",
    "                slide_width, slide_height = slide.dimensions\n",
    "                patch_width, patch_height = self.patch_size\n",
    "                overlap_width, overlap_height = self.overlap\n",
    "\n",
    "                for y in range(0, slide_height, patch_height-overlap_height):\n",
    "                    for x in range(0, slide_width, patch_width-overlap_width):\n",
    "                        patch = slide.read_region((x, y), 0, self.patch_size)\n",
    "                        if patch.size < self.patch_size:\n",
    "                            continue\n",
    "                        else:\n",
    "                            patch.save(f'{self.save_path}/{slide_name}_{x}_{y}.png')\n",
    "                            logging.info(f\"Extracted patch from {slide_path} at ({x}, {y})\")\n",
    "            except Exception as e:\n",
    "                logging.error(f\"Error extracting patches from {slide_path}: {e}\")"
   ]
  },
  {
   "cell_type": "code",
   "execution_count": null,
   "metadata": {},
   "outputs": [],
   "source": [
    "extractor = PatchExtractor(slide_root_path=WSI_DIR, patch_size=(PATCH_SIZE, PATCH_SIZE), overlap=(OVERLAP, OVERLAP), save_path=PATCH_DIR)\n",
    "extractor.extract_patches()"
   ]
  }
 ],
 "metadata": {
  "kernelspec": {
   "display_name": "Python 3",
   "language": "python",
   "name": "python3"
  },
  "language_info": {
   "codemirror_mode": {
    "name": "ipython",
    "version": 3
   },
   "file_extension": ".py",
   "mimetype": "text/x-python",
   "name": "python",
   "nbconvert_exporter": "python",
   "pygments_lexer": "ipython3",
   "version": "3.12.7"
  }
 },
 "nbformat": 4,
 "nbformat_minor": 2
}

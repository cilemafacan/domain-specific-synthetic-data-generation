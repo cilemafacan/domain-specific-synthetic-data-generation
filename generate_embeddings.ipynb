{
 "cells": [
  {
   "cell_type": "code",
   "execution_count": 1,
   "metadata": {},
   "outputs": [],
   "source": [
    "from sklearn.cluster import KMeans\n",
    "from sklearn.decomposition import PCA\n",
    "from huggingface_hub import from_pretrained_keras\n",
    "import tensorflow as tf\n",
    "import numpy as np\n",
    "import os\n",
    "import logging\n",
    "import pickle\n",
    "import matplotlib.pyplot as plt"
   ]
  },
  {
   "cell_type": "code",
   "execution_count": 2,
   "metadata": {},
   "outputs": [],
   "source": [
    "logging.basicConfig(level=logging.INFO, \n",
    "                    format='%(asctime)s - %(name)s - %(levelname)s - %(message)s', \n",
    "                    filename='logs/embedding_and_clustering.log')\n",
    "\n",
    "PATCH_DIR = \"./datasets/patches\"\n",
    "MODEL_NAME = \"google/path-foundation\"\n",
    "\n",
    "logging.info(f\"Patch directory: {PATCH_DIR}\")\n",
    "logging.info(f\"Model name: {MODEL_NAME}\")"
   ]
  },
  {
   "cell_type": "code",
   "execution_count": 3,
   "metadata": {},
   "outputs": [],
   "source": [
    "class GenerateEmbeddings:\n",
    "    def __init__(self, model_name, patch_dir):\n",
    "        logging.info(f\"Loading model: {model_name}\")\n",
    "        self.model = from_pretrained_keras(model_name)\n",
    "        self.infer = self.model.signatures[\"serving_default\"]\n",
    "        self.patch_dir = patch_dir\n",
    "        self.patches_dir = []\n",
    "\n",
    "        for root, _, files in os.walk(patch_dir):\n",
    "            for file in files:\n",
    "                if file.endswith(\".png\"):\n",
    "                    self.patches_dir.append(os.path.join(root, file))\n",
    "    \n",
    "    def __len__(self):\n",
    "        return len(self.patches_dir)\n",
    "\n",
    "    def generate_embeddings(self):\n",
    "        embeddings = []\n",
    "        for patch in self.patches_dir:\n",
    "            try:\n",
    "                logging.info(f\"Generating embeddings for {patch}\")\n",
    "                img = tf.io.read_file(patch)\n",
    "                img = tf.image.decode_png(img, channels=3)\n",
    "                img = tf.image.resize(img, (224, 224))\n",
    "                img = tf.cast(img, tf.float32) / 255.0\n",
    "                img = tf.expand_dims(img, 0)\n",
    "                embedding = self.infer(img)[\"output_0\"].numpy()\n",
    "                embeddings.append({\n",
    "                    \"patch\": os.path.basename(patch),\n",
    "                    \"embeds\": embedding\n",
    "                })\n",
    "            except Exception as e:\n",
    "                logging.error(f\"Error generating embeddings for {patch}: {e}\")\n",
    "        return embeddings"
   ]
  },
  {
   "cell_type": "code",
   "execution_count": null,
   "metadata": {},
   "outputs": [],
   "source": [
    "embed_gen = GenerateEmbeddings(MODEL_NAME, PATCH_DIR)\n",
    "embeddings = embed_gen.generate_embeddings()\n",
    "\n",
    "with open(\"embeddings.pkl\", \"wb\") as f:\n",
    "    pickle.dump(embeddings, f)"
   ]
  },
  {
   "cell_type": "code",
   "execution_count": 6,
   "metadata": {},
   "outputs": [],
   "source": [
    "logging.info(f\"Length of embeddings: {len(embeddings)}\")"
   ]
  }
 ],
 "metadata": {
  "kernelspec": {
   "display_name": "Python 3",
   "language": "python",
   "name": "python3"
  },
  "language_info": {
   "codemirror_mode": {
    "name": "ipython",
    "version": 3
   },
   "file_extension": ".py",
   "mimetype": "text/x-python",
   "name": "python",
   "nbconvert_exporter": "python",
   "pygments_lexer": "ipython3",
   "version": "3.12.7"
  }
 },
 "nbformat": 4,
 "nbformat_minor": 2
}

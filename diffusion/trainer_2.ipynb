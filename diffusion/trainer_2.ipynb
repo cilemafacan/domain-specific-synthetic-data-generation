{
 "cells": [
  {
   "cell_type": "code",
   "execution_count": null,
   "metadata": {},
   "outputs": [],
   "source": [
    "import torch\n",
    "import torch.optim as optim\n",
    "import torch.nn.functional as F\n",
    "from torch.utils.data import DataLoader, Dataset\n",
    "from torchvision import transforms\n",
    "from datasets import load_dataset\n",
    "\n",
    "from diffusers import StableDiffusionPipeline\n",
    "from diffusers import UNet2DConditionModel, AutoencoderKL, DDPMScheduler\n",
    "from diffusers.pipelines.stable_diffusion import StableDiffusionSafetyChecker\n",
    "from transformers import CLIPTokenizer, CLIPTextModel, CLIPFeatureExtractor"
   ]
  },
  {
   "cell_type": "code",
   "execution_count": null,
   "metadata": {},
   "outputs": [],
   "source": [
    "vae = AutoencoderKL.from_pretrained(\"stable-diffusion-v1-5/stable-diffusion-v1-5\", subfolder=\"vae\")\n",
    "safety_checker = StableDiffusionSafetyChecker.from_pretrained(\"stable-diffusion-v1-5/stable-diffusion-v1-5\", subfolder=\"safety_checker\")\n",
    "tokenizer = CLIPTokenizer.from_pretrained(\"openai/clip-vit-large-patch14\")\n",
    "text_encoder = CLIPTextModel.from_pretrained(\"openai/clip-vit-large-patch14\")\n",
    "feature_extractor = CLIPFeatureExtractor.from_pretrained(\"openai/clip-vit-large-patch14\")\n",
    "noise_scheduler = DDPMScheduler(num_train_timesteps=1000)\n",
    "\n",
    "unet = UNet2DConditionModel(\n",
    "    act_fn=\"silu\",\n",
    "    attention_head_dim=8,\n",
    "    center_input_sample=False,\n",
    "    downsample_padding=1,\n",
    "    flip_sin_to_cos=True,\n",
    "    freq_shift=0,\n",
    "    mid_block_scale_factor=1,\n",
    "    norm_eps=1e-05,\n",
    "    norm_num_groups=32,\n",
    "    sample_size=32, # generated samples are 256x256 \n",
    "    in_channels=4, \n",
    "    out_channels=4, \n",
    "    layers_per_block=2, \n",
    "    block_out_channels=(320, 640, 1280, 1280), \n",
    "    down_block_types=(\n",
    "    \"CrossAttnDownBlock2D\",\n",
    "    \"CrossAttnDownBlock2D\",\n",
    "    \"CrossAttnDownBlock2D\",\n",
    "    \"DownBlock2D\"), \n",
    "    up_block_types=(\"UpBlock2D\",\n",
    "    \"CrossAttnUpBlock2D\",\n",
    "    \"CrossAttnUpBlock2D\",\n",
    "    \"CrossAttnUpBlock2D\"),\n",
    "    cross_attention_dim=384\n",
    ")"
   ]
  },
  {
   "cell_type": "code",
   "execution_count": null,
   "metadata": {},
   "outputs": [],
   "source": [
    "device = torch.device(\"cuda:2\" if torch.cuda.is_available() else \"cpu\")\n",
    "vae.to(device)\n",
    "unet.to(device)"
   ]
  },
  {
   "cell_type": "code",
   "execution_count": 4,
   "metadata": {},
   "outputs": [],
   "source": [
    "class CustomDataset(Dataset):\n",
    "    def __init__(self, dataset, transform=None):\n",
    "        self.dataset = dataset[\"train\"]\n",
    "        self.transform = transform\n",
    "\n",
    "    def __len__(self):\n",
    "        return len(self.dataset)\n",
    "\n",
    "    def __getitem__(self, idx):\n",
    "        image = self.dataset[idx][\"image\"]\n",
    "        if self.transform:\n",
    "            image = self.transform(image)\n",
    "        embedding = self.dataset[idx][\"embedding_vector\"]\n",
    "        embedding = torch.tensor(embedding, dtype=torch.float32)\n",
    "        return {\"image\": image, \"embedding\": embedding}"
   ]
  },
  {
   "cell_type": "code",
   "execution_count": 5,
   "metadata": {},
   "outputs": [],
   "source": [
    "optimizer = optim.AdamW(unet.parameters(), lr=1e-5)\n",
    "batch_size = 4\n",
    "num_epochs = 10"
   ]
  },
  {
   "cell_type": "code",
   "execution_count": 6,
   "metadata": {},
   "outputs": [],
   "source": [
    "transform = transforms.Compose([\n",
    "    transforms.Resize((224, 224)),\n",
    "    transforms.ToTensor(),\n",
    "    transforms.Normalize([0.5], [0.5])\n",
    "])"
   ]
  },
  {
   "cell_type": "code",
   "execution_count": null,
   "metadata": {},
   "outputs": [],
   "source": [
    "dataset = load_dataset(\"Cilem/histopathology\")\n",
    "custom_dataset = CustomDataset(dataset, transform=transform)\n",
    "dataloader = DataLoader(custom_dataset, batch_size=batch_size, shuffle=True)"
   ]
  },
  {
   "cell_type": "code",
   "execution_count": null,
   "metadata": {},
   "outputs": [],
   "source": [
    "for epoch in range(num_epochs):\n",
    "    for batch in dataloader:\n",
    "        images = batch[\"image\"].to(device)\n",
    "        embeddings = batch[\"embedding\"].to(device)\n",
    "    \n",
    "        latents = vae.encode(images).latent_dist.sample() \n",
    "        latents = latents * 0.18215 \n",
    "\n",
    "        noise = torch.randn_like(latents).to(device)\n",
    "        timesteps = torch.randint(0, noise_scheduler.num_train_timesteps, (latents.shape[0],), device=device).long()\n",
    "\n",
    "        noisy_latents = noise_scheduler.add_noise(latents, noise, timesteps)  \n",
    "        \n",
    "        noise_pred = unet(noisy_latents, timesteps, encoder_hidden_states=embeddings).sample\n",
    "\n",
    "        loss = F.mse_loss(noise_pred, noise)\n",
    "        loss.backward()\n",
    "        optimizer.step()\n",
    "        optimizer.zero_grad()\n",
    "\n",
    "    print(f\"Epoch {epoch + 1}/{num_epochs}, Loss: {loss.item()}\")"
   ]
  },
  {
   "cell_type": "code",
   "execution_count": null,
   "metadata": {},
   "outputs": [],
   "source": [
    "pipe = StableDiffusionPipeline(\n",
    "    vae=vae,\n",
    "    unet=unet,\n",
    "    scheduler=noise_scheduler,\n",
    "    tokenizer=tokenizer,\n",
    "    text_encoder=text_encoder,\n",
    "    safety_checker=safety_checker,\n",
    "    feature_extractor=feature_extractor\n",
    ")\n",
    "\n",
    "pipe.save_pretrained(\"histopathology-diffusion\")"
   ]
  }
 ],
 "metadata": {
  "kernelspec": {
   "display_name": "ai",
   "language": "python",
   "name": "python3"
  },
  "language_info": {
   "codemirror_mode": {
    "name": "ipython",
    "version": 3
   },
   "file_extension": ".py",
   "mimetype": "text/x-python",
   "name": "python",
   "nbconvert_exporter": "python",
   "pygments_lexer": "ipython3",
   "version": "3.10.16"
  }
 },
 "nbformat": 4,
 "nbformat_minor": 2
}

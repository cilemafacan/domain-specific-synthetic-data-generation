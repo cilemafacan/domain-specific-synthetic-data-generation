{
 "cells": [
  {
   "cell_type": "code",
   "execution_count": null,
   "metadata": {},
   "outputs": [],
   "source": [
    "import os\n",
    "import logging\n",
    "import torch\n",
    "import torch.optim as optim\n",
    "import torch.nn.functional as F\n",
    "\n",
    "from utils.dataset_loader import CustomDatasetFromSlide\n",
    "from torch.utils.data import DataLoader\n",
    "from torchvision import transforms\n",
    "from datasets import load_dataset\n",
    "\n",
    "from diffusers import StableDiffusionPipeline\n",
    "from diffusers import UNet2DConditionModel, AutoencoderKL, DDPMScheduler\n",
    "from diffusers.pipelines.stable_diffusion import StableDiffusionSafetyChecker\n",
    "from transformers import CLIPTokenizer, CLIPTextModel, CLIPImageProcessor"
   ]
  },
  {
   "cell_type": "code",
   "execution_count": null,
   "metadata": {},
   "outputs": [],
   "source": [
    "if not os.path.exists('logs'):\n",
    "    os.makedirs('logs')"
   ]
  },
  {
   "cell_type": "code",
   "execution_count": null,
   "metadata": {},
   "outputs": [],
   "source": [
    "device = torch.device('cuda:2' if torch.cuda.is_available() else 'cpu')\n",
    "save_name =\"histopathology-diffusion-e2i-512\"\n",
    "logging.basicConfig(level=logging.INFO, \n",
    "                    format='%(asctime)s - %(name)s - %(levelname)s - %(message)s', \n",
    "                    filename=f'logs/{save_name}.log')"
   ]
  },
  {
   "cell_type": "code",
   "execution_count": null,
   "metadata": {},
   "outputs": [],
   "source": [
    "vae = AutoencoderKL.from_pretrained(\"stable-diffusion-v1-5/stable-diffusion-v1-5\", subfolder=\"vae\")\n",
    "safety_checker = StableDiffusionSafetyChecker.from_pretrained(\"stable-diffusion-v1-5/stable-diffusion-v1-5\", subfolder=\"safety_checker\")\n",
    "tokenizer = CLIPTokenizer.from_pretrained(\"openai/clip-vit-large-patch14\")\n",
    "text_encoder = CLIPTextModel.from_pretrained(\"openai/clip-vit-large-patch14\")\n",
    "feature_extractor = CLIPImageProcessor.from_pretrained(\"openai/clip-vit-large-patch14\")\n",
    "noise_scheduler = DDPMScheduler(num_train_timesteps=1000)\n",
    "\n",
    "unet = UNet2DConditionModel(\n",
    "    act_fn=\"silu\",\n",
    "    attention_head_dim=8,\n",
    "    center_input_sample=False,\n",
    "    downsample_padding=1,\n",
    "    flip_sin_to_cos=True,\n",
    "    freq_shift=0,\n",
    "    mid_block_scale_factor=1,\n",
    "    norm_eps=1e-05,\n",
    "    norm_num_groups=32,\n",
    "    sample_size=64, # generated samples are 512x512\n",
    "    in_channels=4, \n",
    "    out_channels=4, \n",
    "    layers_per_block=2, \n",
    "    block_out_channels=(320, 640, 1280, 1280), \n",
    "    down_block_types=(\n",
    "    \"CrossAttnDownBlock2D\",\n",
    "    \"CrossAttnDownBlock2D\",\n",
    "    \"CrossAttnDownBlock2D\",\n",
    "    \"DownBlock2D\"), \n",
    "    up_block_types=(\"UpBlock2D\",\n",
    "    \"CrossAttnUpBlock2D\",\n",
    "    \"CrossAttnUpBlock2D\",\n",
    "    \"CrossAttnUpBlock2D\"),\n",
    "    cross_attention_dim=384\n",
    ")\n",
    "\n",
    "vae.to(device)\n",
    "unet.to(device)"
   ]
  },
  {
   "cell_type": "code",
   "execution_count": null,
   "metadata": {},
   "outputs": [],
   "source": [
    "optimizer = optim.AdamW(unet.parameters(), lr=1e-5)\n",
    "batch_size = 2\n",
    "num_epochs = 10\n",
    "\n",
    "logging.info(\"Optimizer: {}\".format(optimizer))\n",
    "logging.info(\"Batch size: {}\".format(batch_size))\n",
    "logging.info(\"Number of epochs: {}\".format(num_epochs))"
   ]
  },
  {
   "cell_type": "code",
   "execution_count": null,
   "metadata": {},
   "outputs": [],
   "source": [
    "transform = transforms.Compose([\n",
    "    transforms.Resize((512, 512)),\n",
    "    transforms.ToTensor(),\n",
    "    transforms.Normalize([0.5], [0.5])\n",
    "])\n",
    "\n",
    "logging.info(\"Transform: {}\".format(transform))"
   ]
  },
  {
   "cell_type": "code",
   "execution_count": null,
   "metadata": {},
   "outputs": [],
   "source": [
    "dataset = load_dataset(\"Cilem/histopathology-1024\")\n",
    "split_datasets = dataset[\"train\"].train_test_split(test_size=0.15, seed=42)\n",
    "train_dset = split_datasets[\"train\"]\n",
    "train_dataset = CustomDatasetFromSlide(dataset=train_dset, slide_dir=\"../datasets/wsi\", transform=transform)\n",
    "dataloader = DataLoader(train_dataset, batch_size=batch_size, shuffle=True)\n",
    "\n",
    "logging.info(\"Dataset: {}\".format(train_dset))\n",
    "logging.info(\"Train dataset size: {}\".format(len(train_dataset)))"
   ]
  },
  {
   "cell_type": "code",
   "execution_count": null,
   "metadata": {},
   "outputs": [],
   "source": [
    "for epoch in range(num_epochs):\n",
    "    for batch in dataloader:\n",
    "        images = batch[\"image\"].to(device)\n",
    "        embeddings = batch[\"embedding\"].to(device)\n",
    "    \n",
    "        latents = vae.encode(images).latent_dist.sample() \n",
    "        latents = latents * 0.18215 \n",
    "\n",
    "        noise = torch.randn_like(latents).to(device)\n",
    "        timesteps = torch.randint(0, noise_scheduler.config.num_train_timesteps, (latents.shape[0],), device=device).long()\n",
    "\n",
    "        noisy_latents = noise_scheduler.add_noise(latents, noise, timesteps)  \n",
    "        \n",
    "        noise_pred = unet(noisy_latents, timesteps, encoder_hidden_states=embeddings).sample\n",
    "\n",
    "        loss = F.mse_loss(noise_pred, noise)\n",
    "        loss.backward()\n",
    "        optimizer.step()\n",
    "        optimizer.zero_grad()\n",
    "\n",
    "    print(f\"Epoch {epoch + 1}/{num_epochs}, Loss: {loss.item()}\")\n",
    "    logging.info(f\"Epoch {epoch + 1}/{num_epochs}, Loss: {loss.item()}\")"
   ]
  },
  {
   "cell_type": "code",
   "execution_count": null,
   "metadata": {},
   "outputs": [],
   "source": [
    "pipe = StableDiffusionPipeline(\n",
    "    vae=vae,\n",
    "    unet=unet,\n",
    "    scheduler=noise_scheduler,\n",
    "    tokenizer=tokenizer,\n",
    "    text_encoder=text_encoder,\n",
    "    safety_checker=safety_checker,\n",
    "    feature_extractor=feature_extractor\n",
    ")\n",
    "\n",
    "pipe.save_pretrained(save_name)\n",
    "\n",
    "logging.info(\"Model saved as {}\".format(save_name))"
   ]
  }
 ],
 "metadata": {
  "kernelspec": {
   "display_name": "ai",
   "language": "python",
   "name": "python3"
  },
  "language_info": {
   "codemirror_mode": {
    "name": "ipython",
    "version": 3
   },
   "file_extension": ".py",
   "mimetype": "text/x-python",
   "name": "python",
   "nbconvert_exporter": "python",
   "pygments_lexer": "ipython3",
   "version": "3.10.16"
  }
 },
 "nbformat": 4,
 "nbformat_minor": 2
}

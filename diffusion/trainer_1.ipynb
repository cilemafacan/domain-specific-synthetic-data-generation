{
 "cells": [
  {
   "cell_type": "code",
   "execution_count": null,
   "metadata": {},
   "outputs": [],
   "source": [
    "import os\n",
    "import logging\n",
    "import torch\n",
    "import torch.optim as optim\n",
    "import torch.nn.functional as F\n",
    "\n",
    "from utils.dataset_loader import CustomDatasetFromSource\n",
    "from torch.utils.data import DataLoader, Dataset\n",
    "from diffusers import StableDiffusionPipeline\n",
    "from torchvision import transforms\n",
    "from datasets import load_dataset"
   ]
  },
  {
   "cell_type": "code",
   "execution_count": null,
   "metadata": {},
   "outputs": [],
   "source": [
    "if not os.path.exists('logs'):\n",
    "    os.makedirs('logs')"
   ]
  },
  {
   "cell_type": "code",
   "execution_count": null,
   "metadata": {},
   "outputs": [],
   "source": [
    "device = \"cuda\"\n",
    "save_name = \"histopathology-diffusion-t2i\"\n",
    "logging.basicConfig(level=logging.INFO,\n",
    "                    format='%(asctime)s - %(name)s - %(levelname)s - %(message)s',\n",
    "                    filename=f'./logs/{save_name}.log',)"
   ]
  },
  {
   "cell_type": "code",
   "execution_count": null,
   "metadata": {},
   "outputs": [],
   "source": [
    "pipeline = StableDiffusionPipeline.from_pretrained(\"stable-diffusion-v1-5/stable-diffusion-v1-5\")\n",
    "unet = pipeline.unet.to(device)\n",
    "vae = pipeline.vae.to(device)\n",
    "tokenizer = pipeline.tokenizer\n",
    "text_encoder = pipeline.text_encoder\n",
    "scheduler = pipeline.scheduler\n",
    "\n",
    "vae.eval()\n",
    "unet.train()"
   ]
  },
  {
   "cell_type": "code",
   "execution_count": null,
   "metadata": {},
   "outputs": [],
   "source": [
    "optimizer = optim.AdamW(unet.parameters(), lr=1e-5)\n",
    "batch_size = 1\n",
    "num_epochs = 5\n",
    "\n",
    "\n",
    "logging.info(\"Optimizer: {}\".format(optimizer))\n",
    "logging.info(\"Batch size: {}\".format(batch_size))\n",
    "logging.info(\"Number of epochs: {}\".format(num_epochs))"
   ]
  },
  {
   "cell_type": "code",
   "execution_count": null,
   "metadata": {},
   "outputs": [],
   "source": [
    "transform = transforms.Compose([\n",
    "    transforms.Resize((224, 224)),\n",
    "    transforms.ToTensor(),\n",
    "    transforms.Normalize([0.5], [0.5])\n",
    "])\n",
    "\n",
    "logging.info(\"Transform: {}\".format(transform))"
   ]
  },
  {
   "cell_type": "code",
   "execution_count": null,
   "metadata": {},
   "outputs": [],
   "source": [
    "dataset = load_dataset(\"Cilem/histopathology\")\n",
    "split_datasets = dataset[\"train\"].train_test_split(test_size=0.15, seed=42)\n",
    "train_dset = split_datasets[\"train\"]\n",
    "train_dataset = CustomDatasetFromSource(train_dset, transform=transform)\n",
    "dataloader = DataLoader(train_dataset, batch_size=batch_size, shuffle=True)\n",
    "\n",
    "logging.info(\"Dataset: {}\".format(train_dset))\n",
    "logging.info(\"Train dataset size: {}\".format(len(train_dataset)))"
   ]
  },
  {
   "cell_type": "code",
   "execution_count": null,
   "metadata": {},
   "outputs": [],
   "source": [
    "prompt = \"a histopathology image\"\n",
    "\n",
    "logging.info(\"Prompt: {}\".format(prompt))"
   ]
  },
  {
   "cell_type": "code",
   "execution_count": null,
   "metadata": {},
   "outputs": [],
   "source": [
    "for epoch in range(num_epochs):\n",
    "    for batch in dataloader:\n",
    "        images = batch[\"image\"].to(device)\n",
    "        text = [prompt] * images.shape[0]\n",
    "        text = tokenizer(text, return_tensors=\"pt\", padding=True, truncation=True)\n",
    "        encoder_hidden_states = text_encoder(**text).last_hidden_state\n",
    "        encoder_hidden_states = encoder_hidden_states.to(device)\n",
    "\n",
    "        latents = vae.encode(images).latent_dist.sample() \n",
    "        latents = latents * 0.18215 \n",
    "\n",
    "        noise = torch.randn_like(latents).to(device)\n",
    "        timesteps = torch.randint(0, scheduler.num_train_timesteps, (latents.shape[0],), device=device).long()\n",
    "\n",
    "        noisy_latents = scheduler.add_noise(latents, noise, timesteps)  \n",
    "        \n",
    "        noise_pred = unet(noisy_latents, timesteps, encoder_hidden_states=encoder_hidden_states).sample\n",
    "\n",
    "        loss = F.mse_loss(noise_pred, noise)\n",
    "        loss.backward(retain_graph=True)\n",
    "        optimizer.step()\n",
    "        optimizer.zero_grad()\n",
    "\n",
    "    print(f\"Epoch {epoch + 1}/{num_epochs}, Loss: {loss.item()}\")\n",
    "    logging.info(f\"Epoch {epoch + 1}/{num_epochs}, Loss: {loss.item()}\")"
   ]
  },
  {
   "cell_type": "code",
   "execution_count": null,
   "metadata": {},
   "outputs": [],
   "source": [
    "pipe = StableDiffusionPipeline.from_pretrained(\n",
    "    \"stable-diffusion-v1-5/stable-diffusion-v1-5\",\n",
    "    unet=unet,\n",
    "    vae=vae,\n",
    "    scheduler=scheduler,\n",
    "    tokenizer=pipeline.tokenizer,\n",
    "    text_encoder=pipeline.text_encoder\n",
    ")\n",
    "pipe.save_pretrained(save_name)\n",
    "\n",
    "logging.info(\"Model saved as {}\".format(save_name))"
   ]
  }
 ],
 "metadata": {
  "kernelspec": {
   "display_name": "ai",
   "language": "python",
   "name": "python3"
  },
  "language_info": {
   "codemirror_mode": {
    "name": "ipython",
    "version": 3
   },
   "file_extension": ".py",
   "mimetype": "text/x-python",
   "name": "python",
   "nbconvert_exporter": "python",
   "pygments_lexer": "ipython3",
   "version": "3.10.16"
  }
 },
 "nbformat": 4,
 "nbformat_minor": 2
}

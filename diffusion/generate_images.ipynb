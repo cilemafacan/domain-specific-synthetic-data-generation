{
 "cells": [
  {
   "cell_type": "code",
   "execution_count": null,
   "metadata": {},
   "outputs": [],
   "source": [
    "import torch\n",
    "from diffusers import StableDiffusionPipeline\n",
    "from datasets import load_dataset\n",
    "import matplotlib.pyplot as plt"
   ]
  },
  {
   "cell_type": "code",
   "execution_count": null,
   "metadata": {},
   "outputs": [],
   "source": [
    "idxs = [31500, 32500, 36500]\n",
    "dataset = load_dataset(\"Cilem/histopathology\")\n",
    "image_list = [dataset['train'][i]['image'] for i in idxs]\n",
    "embeddings = [torch.tensor(dataset['train'][i]['embedding_vector']).unsqueeze(0) for i in idxs]\n",
    "\n",
    "display(image_list[0])\n",
    "display(image_list[1])\n",
    "display(image_list[2])"
   ]
  },
  {
   "cell_type": "code",
   "execution_count": null,
   "metadata": {},
   "outputs": [],
   "source": [
    "pipeline = StableDiffusionPipeline.from_pretrained(\"trained_models/256x256/histopathology-diffusion-e2i-256\", safety_checker=None)"
   ]
  },
  {
   "cell_type": "code",
   "execution_count": null,
   "metadata": {},
   "outputs": [],
   "source": [
    "outs = []\n",
    "for embed, img in zip(embeddings, image_list):\n",
    "    out = pipeline(\n",
    "        prompt_embeds=embed,\n",
    "        num_images_per_prompt=4,\n",
    "        num_inference_steps=40,\n",
    "        guidance_scale=0\n",
    "    ).images\n",
    "\n",
    "    outs.append({\n",
    "        'original': img,\n",
    "        'generated': out\n",
    "    })"
   ]
  },
  {
   "cell_type": "code",
   "execution_count": null,
   "metadata": {},
   "outputs": [],
   "source": [
    "fig, axs = plt.subplots(3, 5, figsize=(15, 9), dpi=300)\n",
    "for i, out in enumerate(outs):\n",
    "    axs[i, 0].imshow(out['original'])\n",
    "    axs[i, 0].set_title(\"Original\")\n",
    "    axs[i, 0].axis('off')\n",
    "    for j, img in enumerate(out['generated']):\n",
    "        axs[i, j+1].imshow(img)\n",
    "        axs[i, j+1].set_title(f\"Generated {j+1}\")\n",
    "        axs[i, j+1].axis('off')\n",
    "plt.show()\n"
   ]
  },
  {
   "cell_type": "code",
   "execution_count": null,
   "metadata": {},
   "outputs": [],
   "source": []
  }
 ],
 "metadata": {
  "kernelspec": {
   "display_name": "ai",
   "language": "python",
   "name": "python3"
  },
  "language_info": {
   "codemirror_mode": {
    "name": "ipython",
    "version": 3
   },
   "file_extension": ".py",
   "mimetype": "text/x-python",
   "name": "python",
   "nbconvert_exporter": "python",
   "pygments_lexer": "ipython3",
   "version": "3.10.16"
  }
 },
 "nbformat": 4,
 "nbformat_minor": 2
}
